{
 "cells": [
  {
   "cell_type": "code",
   "execution_count": 199,
   "metadata": {},
   "outputs": [],
   "source": [
    "import pickle\n",
    "import numpy as np\n",
    "from decision_making import *\n",
    "from decision_making.src.messages.scene_static_message import LaneSegmentConnectivity\n",
    "from decision_making.src.messages.scene_static_enums import ManeuverType"
   ]
  },
  {
   "cell_type": "code",
   "execution_count": 200,
   "metadata": {},
   "outputs": [],
   "source": [
    "scene = pickle.load(open(\"resources/scene_static_mocks/accel_scene_static.pkl\", \"rb\"))"
   ]
  },
  {
   "cell_type": "code",
   "execution_count": 201,
   "metadata": {},
   "outputs": [],
   "source": [
    "lanes  = scene.s_Data.s_SceneStaticBase.as_scene_lane_segments\n",
    "roads = scene.s_Data.s_SceneStaticBase.as_scene_road_segment\n",
    "\n",
    "def get_lane(lane_id):\n",
    "    return [lane for lane in lanes if lane.e_i_lane_segment_id == lane_id][0]\n",
    "\n",
    "def get_road(road_id):\n",
    "    return [road_seg for road_seg in roads if road_seg.e_i_road_segment_id == road_id][0]\n"
   ]
  },
  {
   "cell_type": "code",
   "execution_count": 202,
   "metadata": {},
   "outputs": [],
   "source": [
    "first_road_segment = get_road(46613)"
   ]
  },
  {
   "cell_type": "code",
   "execution_count": 203,
   "metadata": {},
   "outputs": [
    {
     "name": "stdout",
     "output_type": "stream",
     "text": [
      "46613,4,87759,5\n",
      "87759,5,8766,4\n",
      "8766,4,76838,5\n",
      "76838,5,228030,5\n",
      "228030,5,51360,4\n",
      "51360,4,228028,4\n",
      "228028,4,87622,3\n",
      "87622,3,228007,3\n",
      "228007,3,87660,3\n",
      "87660,3,87744,4\n",
      "87744,4,9893,4\n",
      "9893,4,9894,4\n",
      "9894,4,87740,5\n",
      "87740,5,77398,5\n",
      "77398,5,87741,5\n",
      "87741,5,25969,4\n",
      "25969,4,10068,4\n",
      "10068,4,87211,5\n",
      "87211,5,10320,5\n",
      "10320,5,10322,5\n",
      "10322,5,228029,5\n",
      "228029,5,87739,5\n",
      "87739,5,40953,5\n",
      "40953,5,10073,4\n",
      "10073,4,10066,4\n",
      "10066,4,87732,4\n",
      "87732,4,43516,4\n",
      "43516,4,87770,4\n",
      "87770,4,228034,3\n",
      "228034,3,87996,3\n",
      "87996,3,228037,4\n",
      "228037,4,10536,4\n",
      "10536,4,88088,4\n",
      "88088,4,228039,3\n",
      "228039,3,88192,4\n",
      "88192,4,10519,4\n"
     ]
    }
   ],
   "source": [
    "curr_road = first_road_segment\n",
    "#while(curr_road_seg.e_Cnt_downstream_segment_count > 0):\n",
    "\n",
    "while curr_road.e_Cnt_downstream_segment_count > 0:\n",
    "    #print(curr_road.e_i_road_segment_id)\n",
    "    \n",
    "    curr_num_lanes = curr_road.e_Cnt_lane_segment_id_count\n",
    "    curr_lanes = [get_lane(lane_id) for lane_id in curr_road.a_i_lane_segment_ids]\n",
    "    downstream_road = get_road(curr_road.a_i_downstream_road_segment_ids[0])\n",
    "    \n",
    "    print(str(curr_road.e_i_road_segment_id) + ',' + str(curr_num_lanes) + ',' + str(downstream_road.e_i_road_segment_id) + ',' + str(downstream_road.e_Cnt_lane_segment_id_count))\n",
    "    # split case\n",
    "    if downstream_road.e_Cnt_lane_segment_id_count > curr_num_lanes:\n",
    "        downstream_lanes = [get_lane(lane_id) for lane_id in downstream_road.a_i_lane_segment_ids]\n",
    "        \n",
    "        # find lane with no upstream\n",
    "        new_lane = [downstream_lane for downstream_lane in downstream_lanes if downstream_lane.e_Cnt_upstream_lane_count == 0]\n",
    "       \n",
    "        if len(new_lane) > 0:\n",
    "            new_lane = new_lane [0]\n",
    "        else:\n",
    "            curr_road = downstream_road\n",
    "            continue\n",
    "    \n",
    "        # make new connections depending on what side the lane is on\n",
    "        if new_lane.e_Cnt_left_adjacent_lane_count == 0: # new lane is leftmost\n",
    "            # get current leftmost lane\n",
    "            leftmost_curr_lane = [ln for ln in curr_lanes if ln.e_Cnt_left_adjacent_lane_count == 0][0]\n",
    "            # add downstream and upstream lane counts\n",
    "            leftmost_curr_lane.e_Cnt_downstream_lane_count += 1\n",
    "            new_lane.e_Cnt_upstream_lane_count += 1\n",
    "\n",
    "            # add downstream and upstream lane id's \n",
    "            leftmost_curr_lane.as_downstream_lanes.append(LaneSegmentConnectivity(new_lane.e_i_lane_segment_id, ManeuverType.LEFT_SPLIT))\n",
    "            new_lane.as_upstream_lanes.append(LaneSegmentConnectivity(leftmost_curr_lane.e_i_lane_segment_id, ManeuverType.LEFT_SPLIT))\n",
    "\n",
    "\n",
    "        elif new_lane.e_Cnt_right_adjacent_lane_count == 0: # new lane is rightmost\n",
    "            rightmost_curr_lane = [ln for ln in curr_lanes if ln.e_Cnt_right_adjacent_lane_count == 0][0]\n",
    "\n",
    "            rightmost_curr_lane.e_Cnt_downstream_lane_count += 1 \n",
    "            new_lane.e_Cnt_upstream_lane_count += 1\n",
    "\n",
    "            rightmost_curr_lane.as_downstream_lanes.append(LaneSegmentConnectivity(new_lane.e_i_lane_segment_id, ManeuverType.RIGHT_SPLIT))\n",
    "            new_lane.as_upstream_lanes.append(LaneSegmentConnectivity(rightmost_curr_lane.e_i_lane_segment_id, ManeuverType.RIGHT_SPLIT))\n",
    "\n",
    "    # merge case\n",
    "    if downstream_road.e_Cnt_lane_segment_id_count < curr_num_lanes:\n",
    "        downstream_lanes = [get_lane(lane_id) for lane_id in downstream_road.a_i_lane_segment_ids]\n",
    "\n",
    "        # find lane with no downstream\n",
    "        disappearing_lane = [ln for ln in curr_lanes if ln.e_Cnt_downstream_lane_count == 0]\n",
    "        if len(disappearing_lane) > 0:\n",
    "            disappearing_lane = disappearing_lane[0]\n",
    "        else:\n",
    "            curr_road = downstream_road\n",
    "            continue\n",
    "\n",
    "        # make new connections depending on what side the lane is on\n",
    "        if disappearing_lane.e_Cnt_left_adjacent_lane_count == 0: # merging lane is on the left\n",
    "            # get current leftmost downstream lane\n",
    "            leftmost_downstream_lane = [ln for ln in downstream_lanes if ln.e_Cnt_left_adjacent_lane_count == 0][0]\n",
    "\n",
    "            # update upstream and downstream lane counts\n",
    "            leftmost_downstream_lane.e_Cnt_upstream_lane_count += 1\n",
    "            disappearing_lane.e_Cnt_downstream_lane_count += 1\n",
    "\n",
    "            # update downstream and upstream lane id's \n",
    "            leftmost_downstream_lane.as_upstream_lanes.append(LaneSegmentConnectivity(disappearing_lane.e_i_lane_segment_id, ManeuverType.LEFT_MERGE_CONNECTION))\n",
    "            disappearing_lane.as_downstream_lanes.append(LaneSegmentConnectivity(leftmost_downstream_lane.e_i_lane_segment_id ,ManeuverType.LEFT_MERGE_CONNECTION))\n",
    "\n",
    "        elif disappearing_lane.e_Cnt_right_adjacent_lane_count == 0:\n",
    "            rightmost_downstream_lane = [ln for ln in downstream_lanes if ln.e_Cnt_right_adjacent_lane_count == 0][0]\n",
    "\n",
    "            # update upstream and downstream lane counts\n",
    "            rightmost_downstream_lane.e_Cnt_upstream_lane_count += 1\n",
    "            disappearing_lane.e_Cnt_downstream_lane_count += 1\n",
    "\n",
    "            # update downstream and upstream lane id's\n",
    "            rightmost_downstream_lane.as_upstream_lanes.append(LaneSegmentConnectivity(disappearing_lane.e_i_lane_segment_id, ManeuverType.RIGHT_MERGE_CONNECTION))\n",
    "            disappearing_lane.as_downstream_lanes.append(LaneSegmentConnectivity(rightmost_downstream_lane.e_i_lane_segment_id, ManeuverType.RIGHT_MERGE_CONNECTION))\n",
    "    # go on to next road segment\n",
    "    curr_road = downstream_road\n",
    "\n",
    "    "
   ]
  },
  {
   "cell_type": "code",
   "execution_count": 204,
   "metadata": {},
   "outputs": [
    {
     "name": "stdout",
     "output_type": "stream",
     "text": [
      "[<decision_making.src.messages.scene_static_message.SceneLaneSegmentBase object at 0x7f37555e4f28>, <decision_making.src.messages.scene_static_message.SceneLaneSegmentBase object at 0x7f37555e42e8>, <decision_making.src.messages.scene_static_message.SceneLaneSegmentBase object at 0x7f37555e4a90>, <decision_making.src.messages.scene_static_message.SceneLaneSegmentBase object at 0x7f37555e4be0>]\n"
     ]
    }
   ],
   "source": [
    "pickle.dump(scene, open(\"oval_with_splits.pkl\", \"wb\"))"
   ]
  },
  {
   "cell_type": "code",
   "execution_count": 205,
   "metadata": {},
   "outputs": [
    {
     "name": "stdout",
     "output_type": "stream",
     "text": [
      "[0, 1]\n"
     ]
    }
   ],
   "source": [
    "\n"
   ]
  }
 ],
 "metadata": {
  "kernelspec": {
   "display_name": "Python 3",
   "language": "python",
   "name": "python3"
  },
  "language_info": {
   "codemirror_mode": {
    "name": "ipython",
    "version": 3
   },
   "file_extension": ".py",
   "mimetype": "text/x-python",
   "name": "python",
   "nbconvert_exporter": "python",
   "pygments_lexer": "ipython3",
   "version": "3.6.6"
  }
 },
 "nbformat": 4,
 "nbformat_minor": 2
}
